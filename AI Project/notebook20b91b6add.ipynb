{
 "cells": [
  {
   "cell_type": "markdown",
   "metadata": {},
   "source": [
    "# Problem Description\n",
    "\n",
    "Company wants to automate the loan eligibility process (real time) based on customer detail provided while filling online application form. These details are Gender, Marital Status, Education, Number of Dependents, Income, Loan Amount, Credit History and others. To automate this process, they have given a problem to identify the customers segments, those are eligible for loan amount so that they can specifically target these customers. Here they have provided a partial data set.\n"
   ]
  },
  {
   "cell_type": "markdown",
   "metadata": {},
   "source": [
    "![](https://media.giphy.com/media/chDFvZcbVVKfDnC2gF/giphy.gif)"
   ]
  },
  {
   "cell_type": "markdown",
   "metadata": {},
   "source": [
    "# Importing Libraries"
   ]
  },
  {
   "cell_type": "code",
   "execution_count": null,
   "metadata": {
    "execution": {
     "iopub.execute_input": "2022-03-06T11:21:23.647999Z",
     "iopub.status.busy": "2022-03-06T11:21:23.647334Z",
     "iopub.status.idle": "2022-03-06T11:21:24.852263Z",
     "shell.execute_reply": "2022-03-06T11:21:24.850569Z",
     "shell.execute_reply.started": "2022-03-06T11:21:23.647866Z"
    }
   },
   "outputs": [],
   "source": [
    "import  numpy as np\n",
    "import  pandas as pd\n",
    "import seaborn as sns\n",
    "import matplotlib.pyplot as plt\n",
    "%matplotlib inline"
   ]
  },
  {
   "cell_type": "code",
   "execution_count": null,
   "metadata": {
    "execution": {
     "iopub.execute_input": "2022-03-06T11:21:24.854451Z",
     "iopub.status.busy": "2022-03-06T11:21:24.854206Z",
     "iopub.status.idle": "2022-03-06T11:21:25.297328Z",
     "shell.execute_reply": "2022-03-06T11:21:25.296315Z",
     "shell.execute_reply.started": "2022-03-06T11:21:24.854422Z"
    },
    "scrolled": true
   },
   "outputs": [],
   "source": [
    "from sklearn.model_selection import train_test_split\n",
    "from sklearn import feature_selection\n",
    "from sklearn import model_selection\n",
    "from sklearn.metrics import accuracy_score \n",
    "from sklearn.linear_model import LogisticRegression\n",
    "from sklearn.svm import SVC\n",
    "from sklearn.naive_bayes import GaussianNB\n",
    "from sklearn.ensemble import RandomForestClassifier,GradientBoostingClassifier\n",
    "from sklearn.neighbors import KNeighborsClassifier\n",
    "\n",
    "import warnings\n",
    "warnings.filterwarnings('ignore')"
   ]
  },
  {
   "cell_type": "markdown",
   "metadata": {},
   "source": [
    "# Importing data "
   ]
  },
  {
   "cell_type": "code",
   "execution_count": null,
   "metadata": {
    "execution": {
     "iopub.execute_input": "2022-03-06T11:21:25.299029Z",
     "iopub.status.busy": "2022-03-06T11:21:25.298752Z",
     "iopub.status.idle": "2022-03-06T11:21:25.341863Z",
     "shell.execute_reply": "2022-03-06T11:21:25.340893Z",
     "shell.execute_reply.started": "2022-03-06T11:21:25.298999Z"
    }
   },
   "outputs": [],
   "source": [
    "train = pd.read_csv('../input/loan-prediction-problem-dataset/train_u6lujuX_CVtuZ9i.csv')\n",
    "test = pd.read_csv('../input/loan-prediction-problem-dataset/test_Y3wMUE5_7gLdaTN.csv')"
   ]
  },
  {
   "cell_type": "code",
   "execution_count": null,
   "metadata": {
    "execution": {
     "iopub.execute_input": "2022-03-06T11:21:25.344298Z",
     "iopub.status.busy": "2022-03-06T11:21:25.344011Z",
     "iopub.status.idle": "2022-03-06T11:21:25.350891Z",
     "shell.execute_reply": "2022-03-06T11:21:25.349697Z",
     "shell.execute_reply.started": "2022-03-06T11:21:25.344265Z"
    }
   },
   "outputs": [],
   "source": [
    "print (train.shape, test.shape)"
   ]
  },
  {
   "cell_type": "markdown",
   "metadata": {},
   "source": [
    "# EDA & Data-Preprocessing"
   ]
  },
  {
   "cell_type": "markdown",
   "metadata": {},
   "source": [
    "### Viewing the train dataset"
   ]
  },
  {
   "cell_type": "code",
   "execution_count": null,
   "metadata": {
    "execution": {
     "iopub.execute_input": "2022-03-06T11:21:25.353484Z",
     "iopub.status.busy": "2022-03-06T11:21:25.352908Z",
     "iopub.status.idle": "2022-03-06T11:21:25.388314Z",
     "shell.execute_reply": "2022-03-06T11:21:25.387343Z",
     "shell.execute_reply.started": "2022-03-06T11:21:25.35343Z"
    }
   },
   "outputs": [],
   "source": [
    "train.head() "
   ]
  },
  {
   "cell_type": "code",
   "execution_count": null,
   "metadata": {
    "execution": {
     "iopub.execute_input": "2022-03-06T11:21:25.390643Z",
     "iopub.status.busy": "2022-03-06T11:21:25.390056Z",
     "iopub.status.idle": "2022-03-06T11:21:25.421214Z",
     "shell.execute_reply": "2022-03-06T11:21:25.42027Z",
     "shell.execute_reply.started": "2022-03-06T11:21:25.390598Z"
    }
   },
   "outputs": [],
   "source": [
    "train.info() "
   ]
  },
  {
   "cell_type": "markdown",
   "metadata": {},
   "source": [
    "### Viewing no of null data in each feature of the train dataset"
   ]
  },
  {
   "cell_type": "code",
   "execution_count": null,
   "metadata": {
    "execution": {
     "iopub.execute_input": "2022-03-06T11:21:25.423404Z",
     "iopub.status.busy": "2022-03-06T11:21:25.422699Z",
     "iopub.status.idle": "2022-03-06T11:21:25.436496Z",
     "shell.execute_reply": "2022-03-06T11:21:25.43522Z",
     "shell.execute_reply.started": "2022-03-06T11:21:25.423347Z"
    },
    "scrolled": true
   },
   "outputs": [],
   "source": [
    "train.isnull().sum()"
   ]
  },
  {
   "cell_type": "markdown",
   "metadata": {},
   "source": [
    "### Viewing the test dataset"
   ]
  },
  {
   "cell_type": "code",
   "execution_count": null,
   "metadata": {
    "execution": {
     "iopub.execute_input": "2022-03-06T11:21:25.438471Z",
     "iopub.status.busy": "2022-03-06T11:21:25.438085Z",
     "iopub.status.idle": "2022-03-06T11:21:25.459943Z",
     "shell.execute_reply": "2022-03-06T11:21:25.459061Z",
     "shell.execute_reply.started": "2022-03-06T11:21:25.438429Z"
    }
   },
   "outputs": [],
   "source": [
    "test.head()"
   ]
  },
  {
   "cell_type": "code",
   "execution_count": null,
   "metadata": {
    "execution": {
     "iopub.execute_input": "2022-03-06T11:21:25.461888Z",
     "iopub.status.busy": "2022-03-06T11:21:25.461582Z",
     "iopub.status.idle": "2022-03-06T11:21:25.476969Z",
     "shell.execute_reply": "2022-03-06T11:21:25.476023Z",
     "shell.execute_reply.started": "2022-03-06T11:21:25.461833Z"
    }
   },
   "outputs": [],
   "source": [
    "test.info()"
   ]
  },
  {
   "cell_type": "markdown",
   "metadata": {},
   "source": [
    "### Viewing no of null data in each feature of the test dataset"
   ]
  },
  {
   "cell_type": "code",
   "execution_count": null,
   "metadata": {
    "execution": {
     "iopub.execute_input": "2022-03-06T11:21:25.480471Z",
     "iopub.status.busy": "2022-03-06T11:21:25.479775Z",
     "iopub.status.idle": "2022-03-06T11:21:25.495714Z",
     "shell.execute_reply": "2022-03-06T11:21:25.494856Z",
     "shell.execute_reply.started": "2022-03-06T11:21:25.480434Z"
    }
   },
   "outputs": [],
   "source": [
    "test.isnull().sum()"
   ]
  },
  {
   "cell_type": "markdown",
   "metadata": {},
   "source": [
    "### Counting frequency of categories for each categorical features"
   ]
  },
  {
   "cell_type": "code",
   "execution_count": null,
   "metadata": {
    "execution": {
     "iopub.execute_input": "2022-03-06T11:21:25.498077Z",
     "iopub.status.busy": "2022-03-06T11:21:25.49775Z",
     "iopub.status.idle": "2022-03-06T11:21:25.520919Z",
     "shell.execute_reply": "2022-03-06T11:21:25.520191Z",
     "shell.execute_reply.started": "2022-03-06T11:21:25.498043Z"
    }
   },
   "outputs": [],
   "source": [
    "data = [train,test]\n",
    "for dataset in data:\n",
    "    #Filter categorical variables\n",
    "    categorical_columns = [x for x in dataset.dtypes.index if dataset.dtypes[x]=='object']\n",
    "    # Exclude ID cols and source:\n",
    "    categorical_columns = [x for x in categorical_columns if x not in ['Loan_ID' ]]\n",
    "    #Print frequency of categories\n",
    "    \n",
    "for col in categorical_columns:\n",
    "    print ('\\nFrequency of Categories for variable %s'%col)\n",
    "    print (train[col].value_counts())"
   ]
  },
  {
   "cell_type": "markdown",
   "metadata": {},
   "source": [
    "#### Plotting No. of Males vs No. of Females"
   ]
  },
  {
   "cell_type": "code",
   "execution_count": null,
   "metadata": {
    "execution": {
     "iopub.execute_input": "2022-03-06T11:21:25.522511Z",
     "iopub.status.busy": "2022-03-06T11:21:25.522132Z",
     "iopub.status.idle": "2022-03-06T11:21:25.699016Z",
     "shell.execute_reply": "2022-03-06T11:21:25.697824Z",
     "shell.execute_reply.started": "2022-03-06T11:21:25.522479Z"
    }
   },
   "outputs": [],
   "source": [
    "sns.countplot(train['Gender'])"
   ]
  },
  {
   "cell_type": "markdown",
   "metadata": {},
   "source": [
    "#### Approval of loans between Males & Females"
   ]
  },
  {
   "cell_type": "code",
   "execution_count": null,
   "metadata": {
    "execution": {
     "iopub.execute_input": "2022-03-06T11:21:25.701773Z",
     "iopub.status.busy": "2022-03-06T11:21:25.701219Z",
     "iopub.status.idle": "2022-03-06T11:21:25.761627Z",
     "shell.execute_reply": "2022-03-06T11:21:25.760999Z",
     "shell.execute_reply.started": "2022-03-06T11:21:25.701722Z"
    }
   },
   "outputs": [],
   "source": [
    "pd.crosstab(train.Gender, train.Loan_Status, margins = True)"
   ]
  },
  {
   "cell_type": "markdown",
   "metadata": {},
   "source": [
    "> The male are in large number as compared to female applicants."
   ]
  },
  {
   "cell_type": "markdown",
   "metadata": {},
   "source": [
    "### Filling up NAN values of Gender and Converting categorial variables(Male,Female) to numerical variables(0,1)"
   ]
  },
  {
   "cell_type": "code",
   "execution_count": null,
   "metadata": {
    "execution": {
     "iopub.execute_input": "2022-03-06T11:21:25.763257Z",
     "iopub.status.busy": "2022-03-06T11:21:25.762901Z",
     "iopub.status.idle": "2022-03-06T11:21:25.779401Z",
     "shell.execute_reply": "2022-03-06T11:21:25.778657Z",
     "shell.execute_reply.started": "2022-03-06T11:21:25.763226Z"
    }
   },
   "outputs": [],
   "source": [
    "train.Gender = train.Gender.fillna(train.Gender.mode())\n",
    "test.Gender = test.Gender.fillna(test.Gender.mode())\n",
    "\n",
    "sex = pd.get_dummies(train['Gender'] , drop_first = True )\n",
    "train.drop(['Gender'], axis = 1 , inplace =True)\n",
    "train = pd.concat([train , sex ] , axis = 1)\n",
    "\n",
    "sex = pd.get_dummies(test['Gender'] , drop_first = True )\n",
    "test.drop(['Gender'], axis = 1 , inplace =True)\n",
    "test = pd.concat([test , sex ] , axis = 1)"
   ]
  },
  {
   "cell_type": "markdown",
   "metadata": {},
   "source": [
    "### Plotting No. of Dependants (Size of family) in each household"
   ]
  },
  {
   "cell_type": "code",
   "execution_count": null,
   "metadata": {
    "execution": {
     "iopub.execute_input": "2022-03-06T11:21:25.781104Z",
     "iopub.status.busy": "2022-03-06T11:21:25.780735Z",
     "iopub.status.idle": "2022-03-06T11:21:25.960883Z",
     "shell.execute_reply": "2022-03-06T11:21:25.960002Z",
     "shell.execute_reply.started": "2022-03-06T11:21:25.781075Z"
    }
   },
   "outputs": [],
   "source": [
    "plt.figure(figsize=(6,6))\n",
    "labels = ['0' , '1', '2' , '3+']\n",
    "explode = (0.05, 0, 0, 0)\n",
    "size = [345 , 102 , 101 , 51]\n",
    "\n",
    "plt.pie(size, explode=explode, labels=labels,\n",
    "        autopct='%1.1f%%', shadow = True, startangle = 90)\n",
    "plt.axis('equal')\n",
    "plt.show()"
   ]
  },
  {
   "cell_type": "code",
   "execution_count": null,
   "metadata": {
    "execution": {
     "iopub.execute_input": "2022-03-06T11:21:25.962771Z",
     "iopub.status.busy": "2022-03-06T11:21:25.962305Z",
     "iopub.status.idle": "2022-03-06T11:21:25.975413Z",
     "shell.execute_reply": "2022-03-06T11:21:25.974502Z",
     "shell.execute_reply.started": "2022-03-06T11:21:25.962723Z"
    }
   },
   "outputs": [],
   "source": [
    "train.Dependents.value_counts()"
   ]
  },
  {
   "cell_type": "markdown",
   "metadata": {},
   "source": [
    "### Approval of loans between different sizes of families"
   ]
  },
  {
   "cell_type": "code",
   "execution_count": null,
   "metadata": {
    "execution": {
     "iopub.execute_input": "2022-03-06T11:21:25.977855Z",
     "iopub.status.busy": "2022-03-06T11:21:25.977336Z",
     "iopub.status.idle": "2022-03-06T11:21:26.041436Z",
     "shell.execute_reply": "2022-03-06T11:21:26.040567Z",
     "shell.execute_reply.started": "2022-03-06T11:21:25.977787Z"
    }
   },
   "outputs": [],
   "source": [
    "pd.crosstab(train.Dependents , train.Loan_Status, margins = True)"
   ]
  },
  {
   "cell_type": "markdown",
   "metadata": {},
   "source": [
    "> The applicants with highest number of dependants are least in number whereas applicants with no dependance are greatest among these."
   ]
  },
  {
   "cell_type": "markdown",
   "metadata": {},
   "source": [
    "### Filling up NAN values of Dependents and Converting categorial variables(1,2,3+) to numerical variables(1,2,3)"
   ]
  },
  {
   "cell_type": "code",
   "execution_count": null,
   "metadata": {
    "execution": {
     "iopub.execute_input": "2022-03-06T11:21:26.043564Z",
     "iopub.status.busy": "2022-03-06T11:21:26.043084Z",
     "iopub.status.idle": "2022-03-06T11:21:26.056088Z",
     "shell.execute_reply": "2022-03-06T11:21:26.05518Z",
     "shell.execute_reply.started": "2022-03-06T11:21:26.043517Z"
    }
   },
   "outputs": [],
   "source": [
    "train.Dependents = train.Dependents.fillna(\"0\")\n",
    "test.Dependents = test.Dependents.fillna(\"0\")\n",
    "\n",
    "rpl = {'0':'0', '1':'1', '2':'2', '3+':'3'}\n",
    "\n",
    "train.Dependents = train.Dependents.replace(rpl).astype(int)\n",
    "test.Dependents = test.Dependents.replace(rpl).astype(int)"
   ]
  },
  {
   "cell_type": "markdown",
   "metadata": {},
   "source": [
    "### Plotting No. of people with vs without Credit History"
   ]
  },
  {
   "cell_type": "code",
   "execution_count": null,
   "metadata": {
    "execution": {
     "iopub.execute_input": "2022-03-06T11:21:26.058408Z",
     "iopub.status.busy": "2022-03-06T11:21:26.058032Z",
     "iopub.status.idle": "2022-03-06T11:21:26.234582Z",
     "shell.execute_reply": "2022-03-06T11:21:26.23386Z",
     "shell.execute_reply.started": "2022-03-06T11:21:26.058375Z"
    }
   },
   "outputs": [],
   "source": [
    "sns.countplot(train['Credit_History'])"
   ]
  },
  {
   "cell_type": "markdown",
   "metadata": {},
   "source": [
    "### Approval of loans people those who have Credit History and those who don't"
   ]
  },
  {
   "cell_type": "code",
   "execution_count": null,
   "metadata": {
    "execution": {
     "iopub.execute_input": "2022-03-06T11:21:26.237049Z",
     "iopub.status.busy": "2022-03-06T11:21:26.236455Z",
     "iopub.status.idle": "2022-03-06T11:21:26.280578Z",
     "shell.execute_reply": "2022-03-06T11:21:26.279657Z",
     "shell.execute_reply.started": "2022-03-06T11:21:26.237Z"
    }
   },
   "outputs": [],
   "source": [
    "pd.crosstab(train.Credit_History , train.Loan_Status, margins = True)"
   ]
  },
  {
   "cell_type": "markdown",
   "metadata": {},
   "source": [
    "### Filling up NAN values of Credit history by taking the mode"
   ]
  },
  {
   "cell_type": "code",
   "execution_count": null,
   "metadata": {
    "execution": {
     "iopub.execute_input": "2022-03-06T11:21:26.28298Z",
     "iopub.status.busy": "2022-03-06T11:21:26.282425Z",
     "iopub.status.idle": "2022-03-06T11:21:26.292895Z",
     "shell.execute_reply": "2022-03-06T11:21:26.291857Z",
     "shell.execute_reply.started": "2022-03-06T11:21:26.282934Z"
    }
   },
   "outputs": [],
   "source": [
    "train.Credit_History = train.Credit_History.fillna(train.Credit_History.mode()[0])\n",
    "test.Credit_History  = test.Credit_History.fillna(test.Credit_History.mode()[0])"
   ]
  },
  {
   "cell_type": "markdown",
   "metadata": {},
   "source": [
    "### Plotting No. of people who are Self-employed vs who aren't"
   ]
  },
  {
   "cell_type": "code",
   "execution_count": null,
   "metadata": {
    "execution": {
     "iopub.execute_input": "2022-03-06T11:21:26.296444Z",
     "iopub.status.busy": "2022-03-06T11:21:26.295706Z",
     "iopub.status.idle": "2022-03-06T11:21:26.478958Z",
     "shell.execute_reply": "2022-03-06T11:21:26.477981Z",
     "shell.execute_reply.started": "2022-03-06T11:21:26.296401Z"
    },
    "scrolled": true
   },
   "outputs": [],
   "source": [
    "sns.countplot(train['Self_Employed'])"
   ]
  },
  {
   "cell_type": "markdown",
   "metadata": {},
   "source": [
    "### Approval of loans between people who are Self-employed & who aren't"
   ]
  },
  {
   "cell_type": "code",
   "execution_count": null,
   "metadata": {
    "execution": {
     "iopub.execute_input": "2022-03-06T11:21:26.480496Z",
     "iopub.status.busy": "2022-03-06T11:21:26.480268Z",
     "iopub.status.idle": "2022-03-06T11:21:26.527969Z",
     "shell.execute_reply": "2022-03-06T11:21:26.526886Z",
     "shell.execute_reply.started": "2022-03-06T11:21:26.480468Z"
    }
   },
   "outputs": [],
   "source": [
    "pd.crosstab(train.Self_Employed , train.Loan_Status,margins = True)"
   ]
  },
  {
   "cell_type": "markdown",
   "metadata": {},
   "source": [
    "### Filling NAN values and Converting categorial variables(Yes,No) to numerical variables(1,0)"
   ]
  },
  {
   "cell_type": "code",
   "execution_count": null,
   "metadata": {
    "execution": {
     "iopub.execute_input": "2022-03-06T11:21:26.529522Z",
     "iopub.status.busy": "2022-03-06T11:21:26.529264Z",
     "iopub.status.idle": "2022-03-06T11:21:26.550691Z",
     "shell.execute_reply": "2022-03-06T11:21:26.549969Z",
     "shell.execute_reply.started": "2022-03-06T11:21:26.529491Z"
    }
   },
   "outputs": [],
   "source": [
    "train.Self_Employed = train.Self_Employed.fillna(train.Self_Employed.mode())\n",
    "test.Self_Employed = test.Self_Employed.fillna(test.Self_Employed.mode())\n",
    "\n",
    "self_Employed = pd.get_dummies(train['Self_Employed'] ,prefix = 'employed' ,drop_first = True )\n",
    "train.drop(['Self_Employed'], axis = 1 , inplace =True)\n",
    "train = pd.concat([train , self_Employed ] , axis = 1)\n",
    "\n",
    "self_Employed = pd.get_dummies(test['Self_Employed'] , prefix = 'employed' ,drop_first = True )\n",
    "test.drop(['Self_Employed'], axis = 1 , inplace =True)\n",
    "test = pd.concat([test , self_Employed ] , axis = 1)"
   ]
  },
  {
   "cell_type": "markdown",
   "metadata": {},
   "source": [
    "### Plotting No. of Married people vs Unmarried people"
   ]
  },
  {
   "cell_type": "code",
   "execution_count": null,
   "metadata": {
    "execution": {
     "iopub.execute_input": "2022-03-06T11:21:26.552258Z",
     "iopub.status.busy": "2022-03-06T11:21:26.55184Z",
     "iopub.status.idle": "2022-03-06T11:21:26.751447Z",
     "shell.execute_reply": "2022-03-06T11:21:26.75085Z",
     "shell.execute_reply.started": "2022-03-06T11:21:26.552221Z"
    }
   },
   "outputs": [],
   "source": [
    "sns.countplot(train.Married)"
   ]
  },
  {
   "cell_type": "markdown",
   "metadata": {},
   "source": [
    "### Approval of loans between Married and Unmarried people"
   ]
  },
  {
   "cell_type": "code",
   "execution_count": null,
   "metadata": {
    "execution": {
     "iopub.execute_input": "2022-03-06T11:21:26.752948Z",
     "iopub.status.busy": "2022-03-06T11:21:26.752595Z",
     "iopub.status.idle": "2022-03-06T11:21:26.797249Z",
     "shell.execute_reply": "2022-03-06T11:21:26.796232Z",
     "shell.execute_reply.started": "2022-03-06T11:21:26.752919Z"
    }
   },
   "outputs": [],
   "source": [
    "pd.crosstab(train.Married , train.Loan_Status,margins = True)"
   ]
  },
  {
   "cell_type": "markdown",
   "metadata": {},
   "source": [
    "### Filling NAN values and Converting categorial variables(Yes,No) to numerical variables(1,0)"
   ]
  },
  {
   "cell_type": "code",
   "execution_count": null,
   "metadata": {
    "execution": {
     "iopub.execute_input": "2022-03-06T11:21:26.798731Z",
     "iopub.status.busy": "2022-03-06T11:21:26.798484Z",
     "iopub.status.idle": "2022-03-06T11:21:26.820282Z",
     "shell.execute_reply": "2022-03-06T11:21:26.819294Z",
     "shell.execute_reply.started": "2022-03-06T11:21:26.7987Z"
    }
   },
   "outputs": [],
   "source": [
    "train.Married = train.Married.fillna(train.Married.mode())\n",
    "test.Married = test.Married.fillna(test.Married.mode())\n",
    "\n",
    "married = pd.get_dummies(train['Married'] , prefix = 'married',drop_first = True )\n",
    "train.drop(['Married'], axis = 1 , inplace =True)\n",
    "train = pd.concat([train , married ] , axis = 1)\n",
    "\n",
    "married = pd.get_dummies(test['Married'] , prefix = 'married', drop_first = True )\n",
    "test.drop(['Married'], axis = 1 , inplace =True)\n",
    "test = pd.concat([test , married ] , axis = 1)"
   ]
  },
  {
   "cell_type": "markdown",
   "metadata": {},
   "source": [
    "### Filling up NAN values of Loan Amount Term"
   ]
  },
  {
   "cell_type": "code",
   "execution_count": null,
   "metadata": {
    "execution": {
     "iopub.execute_input": "2022-03-06T11:21:26.825507Z",
     "iopub.status.busy": "2022-03-06T11:21:26.824903Z",
     "iopub.status.idle": "2022-03-06T11:21:26.837423Z",
     "shell.execute_reply": "2022-03-06T11:21:26.836323Z",
     "shell.execute_reply.started": "2022-03-06T11:21:26.825467Z"
    }
   },
   "outputs": [],
   "source": [
    "train.drop(['Loan_Amount_Term'], axis = 1 , inplace =True)\n",
    "test.drop(['Loan_Amount_Term'], axis = 1 , inplace =True)\n",
    "\n",
    "train.LoanAmount = train.LoanAmount.fillna(train.LoanAmount.mean()).astype(int)\n",
    "test.LoanAmount = test.LoanAmount.fillna(test.LoanAmount.mean()).astype(int)"
   ]
  },
  {
   "cell_type": "code",
   "execution_count": null,
   "metadata": {
    "execution": {
     "iopub.execute_input": "2022-03-06T11:21:26.840024Z",
     "iopub.status.busy": "2022-03-06T11:21:26.839667Z",
     "iopub.status.idle": "2022-03-06T11:21:27.168126Z",
     "shell.execute_reply": "2022-03-06T11:21:27.167242Z",
     "shell.execute_reply.started": "2022-03-06T11:21:26.839977Z"
    }
   },
   "outputs": [],
   "source": [
    "sns.distplot(train['LoanAmount'])"
   ]
  },
  {
   "cell_type": "markdown",
   "metadata": {},
   "source": [
    "> We observe no outliers in the continuous variable Loan Amount"
   ]
  },
  {
   "cell_type": "markdown",
   "metadata": {},
   "source": [
    "### Plotting Graduates vs Non-Graduates"
   ]
  },
  {
   "cell_type": "code",
   "execution_count": null,
   "metadata": {
    "execution": {
     "iopub.execute_input": "2022-03-06T11:21:27.169557Z",
     "iopub.status.busy": "2022-03-06T11:21:27.169333Z",
     "iopub.status.idle": "2022-03-06T11:21:27.350843Z",
     "shell.execute_reply": "2022-03-06T11:21:27.349888Z",
     "shell.execute_reply.started": "2022-03-06T11:21:27.169528Z"
    }
   },
   "outputs": [],
   "source": [
    "sns.countplot(train.Education)"
   ]
  },
  {
   "cell_type": "markdown",
   "metadata": {},
   "source": [
    "### Converting categorial variables to numerical variables"
   ]
  },
  {
   "cell_type": "code",
   "execution_count": null,
   "metadata": {
    "execution": {
     "iopub.execute_input": "2022-03-06T11:21:27.35292Z",
     "iopub.status.busy": "2022-03-06T11:21:27.352566Z",
     "iopub.status.idle": "2022-03-06T11:21:27.362124Z",
     "shell.execute_reply": "2022-03-06T11:21:27.361142Z",
     "shell.execute_reply.started": "2022-03-06T11:21:27.352874Z"
    },
    "scrolled": true
   },
   "outputs": [],
   "source": [
    "train['Education'] = train['Education'].map( {'Graduate': 0, 'Not Graduate': 1} ).astype(int)\n",
    "test['Education'] = test['Education'].map( {'Graduate': 0, 'Not Graduate': 1} ).astype(int)"
   ]
  },
  {
   "cell_type": "markdown",
   "metadata": {},
   "source": [
    "### Property Area"
   ]
  },
  {
   "cell_type": "code",
   "execution_count": null,
   "metadata": {
    "execution": {
     "iopub.execute_input": "2022-03-06T11:21:27.363876Z",
     "iopub.status.busy": "2022-03-06T11:21:27.363606Z",
     "iopub.status.idle": "2022-03-06T11:21:27.548536Z",
     "shell.execute_reply": "2022-03-06T11:21:27.547682Z",
     "shell.execute_reply.started": "2022-03-06T11:21:27.363834Z"
    }
   },
   "outputs": [],
   "source": [
    "sns.countplot(train.Property_Area)"
   ]
  },
  {
   "cell_type": "markdown",
   "metadata": {},
   "source": [
    "### Converting categorial variables to numerical variables"
   ]
  },
  {
   "cell_type": "code",
   "execution_count": null,
   "metadata": {
    "execution": {
     "iopub.execute_input": "2022-03-06T11:21:27.5501Z",
     "iopub.status.busy": "2022-03-06T11:21:27.549844Z",
     "iopub.status.idle": "2022-03-06T11:21:27.561772Z",
     "shell.execute_reply": "2022-03-06T11:21:27.560877Z",
     "shell.execute_reply.started": "2022-03-06T11:21:27.550069Z"
    }
   },
   "outputs": [],
   "source": [
    "train['Property_Area'] = train['Property_Area'].map( {'Urban': 0, 'Semiurban': 1 ,'Rural': 2  } ).astype(int)\n",
    "\n",
    "test.Property_Area = test.Property_Area.fillna(test.Property_Area.mode())\n",
    "test['Property_Area'] = test['Property_Area'].map( {'Urban': 0, 'Semiurban': 1 ,'Rural': 2  } ).astype(int)\n"
   ]
  },
  {
   "cell_type": "markdown",
   "metadata": {},
   "source": [
    "### Plotting Co-Applicant income and Applicant income"
   ]
  },
  {
   "cell_type": "code",
   "execution_count": null,
   "metadata": {
    "execution": {
     "iopub.execute_input": "2022-03-06T11:21:27.564142Z",
     "iopub.status.busy": "2022-03-06T11:21:27.563265Z",
     "iopub.status.idle": "2022-03-06T11:21:28.019996Z",
     "shell.execute_reply": "2022-03-06T11:21:28.019071Z",
     "shell.execute_reply.started": "2022-03-06T11:21:27.56409Z"
    }
   },
   "outputs": [],
   "source": [
    "sns.distplot(train['ApplicantIncome'])"
   ]
  },
  {
   "cell_type": "code",
   "execution_count": null,
   "metadata": {
    "execution": {
     "iopub.execute_input": "2022-03-06T11:21:28.021885Z",
     "iopub.status.busy": "2022-03-06T11:21:28.02146Z",
     "iopub.status.idle": "2022-03-06T11:21:28.359369Z",
     "shell.execute_reply": "2022-03-06T11:21:28.35869Z",
     "shell.execute_reply.started": "2022-03-06T11:21:28.021835Z"
    }
   },
   "outputs": [],
   "source": [
    "sns.distplot(train['CoapplicantIncome'])"
   ]
  },
  {
   "cell_type": "markdown",
   "metadata": {},
   "source": [
    "### Target Variable : Loan Status (Converting categorial variables to numerical variables)"
   ]
  },
  {
   "cell_type": "code",
   "execution_count": null,
   "metadata": {
    "execution": {
     "iopub.execute_input": "2022-03-06T11:21:28.361153Z",
     "iopub.status.busy": "2022-03-06T11:21:28.360468Z",
     "iopub.status.idle": "2022-03-06T11:21:28.367692Z",
     "shell.execute_reply": "2022-03-06T11:21:28.366717Z",
     "shell.execute_reply.started": "2022-03-06T11:21:28.361113Z"
    }
   },
   "outputs": [],
   "source": [
    "train['Loan_Status'] = train['Loan_Status'].map( {'N': 0, 'Y': 1 } ).astype(int)"
   ]
  },
  {
   "cell_type": "markdown",
   "metadata": {},
   "source": [
    "### Dropping the ID column"
   ]
  },
  {
   "cell_type": "code",
   "execution_count": null,
   "metadata": {
    "execution": {
     "iopub.execute_input": "2022-03-06T11:21:28.369043Z",
     "iopub.status.busy": "2022-03-06T11:21:28.368774Z",
     "iopub.status.idle": "2022-03-06T11:21:28.380671Z",
     "shell.execute_reply": "2022-03-06T11:21:28.379687Z",
     "shell.execute_reply.started": "2022-03-06T11:21:28.369013Z"
    }
   },
   "outputs": [],
   "source": [
    "train.drop(['Loan_ID'], axis = 1 , inplace =True)"
   ]
  },
  {
   "cell_type": "markdown",
   "metadata": {},
   "source": [
    "### Viewing the Datasets"
   ]
  },
  {
   "cell_type": "code",
   "execution_count": null,
   "metadata": {
    "execution": {
     "iopub.execute_input": "2022-03-06T11:21:28.382082Z",
     "iopub.status.busy": "2022-03-06T11:21:28.381843Z",
     "iopub.status.idle": "2022-03-06T11:21:28.40447Z",
     "shell.execute_reply": "2022-03-06T11:21:28.403413Z",
     "shell.execute_reply.started": "2022-03-06T11:21:28.382053Z"
    },
    "scrolled": true
   },
   "outputs": [],
   "source": [
    "train.head()"
   ]
  },
  {
   "cell_type": "code",
   "execution_count": null,
   "metadata": {
    "execution": {
     "iopub.execute_input": "2022-03-06T11:21:28.406313Z",
     "iopub.status.busy": "2022-03-06T11:21:28.405546Z",
     "iopub.status.idle": "2022-03-06T11:21:28.42338Z",
     "shell.execute_reply": "2022-03-06T11:21:28.422409Z",
     "shell.execute_reply.started": "2022-03-06T11:21:28.406263Z"
    }
   },
   "outputs": [],
   "source": [
    "test.head()"
   ]
  },
  {
   "cell_type": "markdown",
   "metadata": {},
   "source": [
    "# Visualizing the Correlations and Relations"
   ]
  },
  {
   "cell_type": "markdown",
   "metadata": {},
   "source": [
    "### Plot between LoanAmount, Applicant Income, Employement and Gender\n",
    "\n",
    "*What is the relation of Loan taken between men and women?<br> Did the employed ones were greater in number to take Loan ?<br> What is distribution of Loan Amount and Income?*"
   ]
  },
  {
   "cell_type": "code",
   "execution_count": null,
   "metadata": {
    "execution": {
     "iopub.execute_input": "2022-03-06T11:21:28.424837Z",
     "iopub.status.busy": "2022-03-06T11:21:28.424585Z",
     "iopub.status.idle": "2022-03-06T11:21:29.748231Z",
     "shell.execute_reply": "2022-03-06T11:21:29.74748Z",
     "shell.execute_reply.started": "2022-03-06T11:21:28.424786Z"
    }
   },
   "outputs": [],
   "source": [
    "g = sns.lmplot(x='ApplicantIncome',y='LoanAmount',data= train , col='employed_Yes', hue='Male',\n",
    "          palette= [\"Red\" , \"Blue\",\"Yellow\"] ,aspect=1.2,size=6)\n",
    "g.set(ylim=(0, 800))\n",
    "##Relation Between the Male or female Applicant's income , Loan taken and Self employment."
   ]
  },
  {
   "cell_type": "markdown",
   "metadata": {},
   "source": [
    "### Above graph tells:\n",
    "    - The male applicants take more amount of loan than female.\n",
    "    - The males are higher in number of \"NOT self employed\" category.\n",
    "    - The amount is still larger in the income range in (0 to 20000).\n",
    "    - Also we observe that majority of applicants are NOT self employed.\n",
    "    - Highest Loan amount taken is by the female applicant of about 700 which is NOT self employed.\n",
    "    - The majority of income taken is about 0-200 with income in the range 0-20000. \n",
    "    - The line plotted shows that with increase in income the amount of loan increases with almost same slope for the case of women in both the cases but a slightely lesser slope in the case of men in Self- Employed category as compared to non-self employed.\n"
   ]
  },
  {
   "cell_type": "markdown",
   "metadata": {},
   "source": [
    "### Boxplots for  relation between Property Area, Amount of Loan and Education qualification "
   ]
  },
  {
   "cell_type": "markdown",
   "metadata": {},
   "source": [
    "- Property_Area: \n",
    "    - `Urban      :0`\n",
    "    - `Semiurban  :1`\n",
    "    - `Rural      :2`"
   ]
  },
  {
   "cell_type": "code",
   "execution_count": null,
   "metadata": {
    "execution": {
     "iopub.execute_input": "2022-03-06T11:21:29.750157Z",
     "iopub.status.busy": "2022-03-06T11:21:29.749517Z",
     "iopub.status.idle": "2022-03-06T11:21:30.092675Z",
     "shell.execute_reply": "2022-03-06T11:21:30.091534Z",
     "shell.execute_reply.started": "2022-03-06T11:21:29.750121Z"
    }
   },
   "outputs": [],
   "source": [
    "plt.figure(figsize=(10,5))\n",
    "sns.boxplot(x=\"Property_Area\", y=\"LoanAmount\", hue=\"Education\",data=train, palette=\"coolwarm\")"
   ]
  },
  {
   "cell_type": "markdown",
   "metadata": {},
   "source": [
    "### The above boxplot signifies that,\n",
    "    - In the Urban area the non graduates take slightly more loan than graduates. \n",
    "    - In the Rural and semiurban area the graduates take more amount of Loan than non graduates \n",
    "    - The higher values of Loan are mostly from Urban area \n",
    "    - The semiurban area and rural area both have one unusual Loan amount close to zero.\n"
   ]
  },
  {
   "cell_type": "markdown",
   "metadata": {},
   "source": [
    "### Relation between Credit History and Loan status."
   ]
  },
  {
   "cell_type": "code",
   "execution_count": null,
   "metadata": {
    "execution": {
     "iopub.execute_input": "2022-03-06T11:21:30.094619Z",
     "iopub.status.busy": "2022-03-06T11:21:30.09436Z",
     "iopub.status.idle": "2022-03-06T11:21:30.103747Z",
     "shell.execute_reply": "2022-03-06T11:21:30.102881Z",
     "shell.execute_reply.started": "2022-03-06T11:21:30.094588Z"
    }
   },
   "outputs": [],
   "source": [
    "train.Credit_History.value_counts()"
   ]
  },
  {
   "cell_type": "code",
   "execution_count": null,
   "metadata": {
    "execution": {
     "iopub.execute_input": "2022-03-06T11:21:30.106538Z",
     "iopub.status.busy": "2022-03-06T11:21:30.105239Z",
     "iopub.status.idle": "2022-03-06T11:21:30.354329Z",
     "shell.execute_reply": "2022-03-06T11:21:30.353184Z",
     "shell.execute_reply.started": "2022-03-06T11:21:30.106488Z"
    }
   },
   "outputs": [],
   "source": [
    "lc = pd.crosstab(train['Credit_History'], train['Loan_Status'])\n",
    "lc.plot(kind='bar', stacked=True, color=['red','blue'], grid=False)"
   ]
  },
  {
   "cell_type": "markdown",
   "metadata": {},
   "source": [
    "- The credit history vs Loan Status indicates:\n",
    "    - The good credit history applicants have more chances of getting Loan.\n",
    "    - With better credit History the Loan amount given was greater too.\n",
    "    - But many were not given loan in the range 0-100\n",
    "    - The applicant with poor credit history were handled in the range 0-100 only."
   ]
  },
  {
   "cell_type": "code",
   "execution_count": null,
   "metadata": {
    "execution": {
     "iopub.execute_input": "2022-03-06T11:21:30.355846Z",
     "iopub.status.busy": "2022-03-06T11:21:30.355589Z",
     "iopub.status.idle": "2022-03-06T11:21:31.219458Z",
     "shell.execute_reply": "2022-03-06T11:21:31.218167Z",
     "shell.execute_reply.started": "2022-03-06T11:21:30.355817Z"
    }
   },
   "outputs": [],
   "source": [
    "plt.figure(figsize=(9,6))\n",
    "sns.heatmap(train.drop('Loan_Status',axis=1).corr(), vmax=0.6, square=True, annot=True)"
   ]
  },
  {
   "cell_type": "markdown",
   "metadata": {},
   "source": [
    "# Modelling"
   ]
  },
  {
   "cell_type": "markdown",
   "metadata": {},
   "source": [
    "The problem is of **Classification** as observed and concluded from the data and visualisations."
   ]
  },
  {
   "cell_type": "code",
   "execution_count": null,
   "metadata": {
    "execution": {
     "iopub.execute_input": "2022-03-06T11:21:31.221424Z",
     "iopub.status.busy": "2022-03-06T11:21:31.220652Z",
     "iopub.status.idle": "2022-03-06T11:21:31.231576Z",
     "shell.execute_reply": "2022-03-06T11:21:31.230586Z",
     "shell.execute_reply.started": "2022-03-06T11:21:31.22138Z"
    }
   },
   "outputs": [],
   "source": [
    "X = train.drop('Loan_Status' , axis = 1 )\n",
    "y = train['Loan_Status']\n",
    "\n",
    "X_train ,X_test , y_train , y_test = train_test_split(X , y , test_size = 0.3 , random_state =102)"
   ]
  },
  {
   "cell_type": "markdown",
   "metadata": {},
   "source": [
    "### Logistic Regression"
   ]
  },
  {
   "cell_type": "code",
   "execution_count": null,
   "metadata": {
    "execution": {
     "iopub.execute_input": "2022-03-06T11:21:31.233478Z",
     "iopub.status.busy": "2022-03-06T11:21:31.233183Z",
     "iopub.status.idle": "2022-03-06T11:21:31.284676Z",
     "shell.execute_reply": "2022-03-06T11:21:31.283601Z",
     "shell.execute_reply.started": "2022-03-06T11:21:31.233446Z"
    }
   },
   "outputs": [],
   "source": [
    "from sklearn.linear_model import LogisticRegression\n",
    "logmodel = LogisticRegression()\n",
    "logmodel.fit(X_train , y_train)\n",
    "pred_l = logmodel.predict(X_test)\n",
    "acc_l = accuracy_score(y_test , pred_l)*100\n",
    "acc_l"
   ]
  },
  {
   "cell_type": "markdown",
   "metadata": {},
   "source": [
    "### Random Forest"
   ]
  },
  {
   "cell_type": "code",
   "execution_count": null,
   "metadata": {
    "execution": {
     "iopub.execute_input": "2022-03-06T11:21:31.286326Z",
     "iopub.status.busy": "2022-03-06T11:21:31.286087Z",
     "iopub.status.idle": "2022-03-06T11:21:31.512772Z",
     "shell.execute_reply": "2022-03-06T11:21:31.5119Z",
     "shell.execute_reply.started": "2022-03-06T11:21:31.286299Z"
    }
   },
   "outputs": [],
   "source": [
    "\n",
    "random_forest = RandomForestClassifier(n_estimators= 100)\n",
    "random_forest.fit(X_train, y_train)\n",
    "pred_rf = random_forest.predict(X_test)\n",
    "acc_rf = accuracy_score(y_test , pred_rf)*100\n",
    "acc_rf"
   ]
  },
  {
   "cell_type": "markdown",
   "metadata": {},
   "source": [
    "### K-Nearest Neighbors"
   ]
  },
  {
   "cell_type": "code",
   "execution_count": null,
   "metadata": {
    "execution": {
     "iopub.execute_input": "2022-03-06T11:21:31.514657Z",
     "iopub.status.busy": "2022-03-06T11:21:31.514343Z",
     "iopub.status.idle": "2022-03-06T11:21:31.544513Z",
     "shell.execute_reply": "2022-03-06T11:21:31.543682Z",
     "shell.execute_reply.started": "2022-03-06T11:21:31.514614Z"
    }
   },
   "outputs": [],
   "source": [
    "\n",
    "knn = KNeighborsClassifier(n_neighbors = 3)\n",
    "knn.fit(X_train, y_train)\n",
    "pred_knn = knn.predict(X_test)\n",
    "acc_knn = accuracy_score(y_test , pred_knn)*100\n",
    "acc_knn"
   ]
  },
  {
   "cell_type": "markdown",
   "metadata": {},
   "source": [
    "### Naive Bayes"
   ]
  },
  {
   "cell_type": "code",
   "execution_count": null,
   "metadata": {
    "execution": {
     "iopub.execute_input": "2022-03-06T11:21:31.546073Z",
     "iopub.status.busy": "2022-03-06T11:21:31.545837Z",
     "iopub.status.idle": "2022-03-06T11:21:31.561494Z",
     "shell.execute_reply": "2022-03-06T11:21:31.560674Z",
     "shell.execute_reply.started": "2022-03-06T11:21:31.546044Z"
    }
   },
   "outputs": [],
   "source": [
    "gaussian = GaussianNB()\n",
    "gaussian.fit(X_train, y_train)\n",
    "pred_gb = gaussian.predict(X_test)\n",
    "acc_gb = accuracy_score(y_test , pred_gb)*100\n",
    "acc_gb"
   ]
  },
  {
   "cell_type": "markdown",
   "metadata": {},
   "source": [
    "### SVM"
   ]
  },
  {
   "cell_type": "code",
   "execution_count": null,
   "metadata": {
    "execution": {
     "iopub.execute_input": "2022-03-06T11:21:31.563039Z",
     "iopub.status.busy": "2022-03-06T11:21:31.562764Z",
     "iopub.status.idle": "2022-03-06T11:21:31.589736Z",
     "shell.execute_reply": "2022-03-06T11:21:31.588773Z",
     "shell.execute_reply.started": "2022-03-06T11:21:31.563007Z"
    }
   },
   "outputs": [],
   "source": [
    "svc = SVC()\n",
    "svc.fit(X_train, y_train)\n",
    "pred_svm = svc.predict(X_test)\n",
    "acc_svm = accuracy_score(y_test , pred_svm)*100\n",
    "acc_svm"
   ]
  },
  {
   "cell_type": "markdown",
   "metadata": {},
   "source": [
    "### Gradient Boosting Classifier"
   ]
  },
  {
   "cell_type": "code",
   "execution_count": null,
   "metadata": {
    "execution": {
     "iopub.execute_input": "2022-03-06T11:21:31.591198Z",
     "iopub.status.busy": "2022-03-06T11:21:31.590991Z",
     "iopub.status.idle": "2022-03-06T11:21:31.711916Z",
     "shell.execute_reply": "2022-03-06T11:21:31.710817Z",
     "shell.execute_reply.started": "2022-03-06T11:21:31.591172Z"
    }
   },
   "outputs": [],
   "source": [
    "gbk = GradientBoostingClassifier()\n",
    "gbk.fit(X_train, y_train)\n",
    "pred_gbc = gbk.predict(X_test)\n",
    "acc_gbc = accuracy_score(y_test , pred_gbc)*100\n",
    "acc_gbc"
   ]
  },
  {
   "cell_type": "code",
   "execution_count": null,
   "metadata": {
    "execution": {
     "iopub.execute_input": "2022-03-06T11:21:31.713628Z",
     "iopub.status.busy": "2022-03-06T11:21:31.713262Z",
     "iopub.status.idle": "2022-03-06T11:21:31.728176Z",
     "shell.execute_reply": "2022-03-06T11:21:31.726848Z",
     "shell.execute_reply.started": "2022-03-06T11:21:31.713594Z"
    }
   },
   "outputs": [],
   "source": [
    "## Arranging the Accuracy results\n",
    "models = pd.DataFrame({\n",
    "    'Model': ['Logistic Regression', 'Random Forrest','K- Nearest Neighbour' ,\n",
    "             'Naive Bayes' , 'SVM','Gradient Boosting Classifier'],\n",
    "    'Score': [acc_l , acc_rf , acc_knn , acc_gb ,acc_svm ,acc_gbc ]})\n",
    "models.sort_values(by='Score', ascending=False)"
   ]
  },
  {
   "cell_type": "markdown",
   "metadata": {},
   "source": [
    "## The highest classification accuracy is shown by Logistic Regression => 83.78%\n",
    "\n",
    "### Let us Check the feature importance"
   ]
  },
  {
   "cell_type": "code",
   "execution_count": null,
   "metadata": {
    "execution": {
     "iopub.execute_input": "2022-03-06T11:21:31.729929Z",
     "iopub.status.busy": "2022-03-06T11:21:31.729653Z",
     "iopub.status.idle": "2022-03-06T11:21:31.755461Z",
     "shell.execute_reply": "2022-03-06T11:21:31.754417Z",
     "shell.execute_reply.started": "2022-03-06T11:21:31.729887Z"
    }
   },
   "outputs": [],
   "source": [
    "importances = pd.DataFrame({'Features':X_train.columns,'Importance':np.round(random_forest.feature_importances_,3)})\n",
    "importances = importances.sort_values('Importance',ascending=False).set_index('Features')\n",
    "importances.head(11) "
   ]
  },
  {
   "cell_type": "code",
   "execution_count": null,
   "metadata": {
    "execution": {
     "iopub.execute_input": "2022-03-06T11:21:31.75726Z",
     "iopub.status.busy": "2022-03-06T11:21:31.757023Z",
     "iopub.status.idle": "2022-03-06T11:21:32.019525Z",
     "shell.execute_reply": "2022-03-06T11:21:32.018575Z",
     "shell.execute_reply.started": "2022-03-06T11:21:31.75723Z"
    }
   },
   "outputs": [],
   "source": [
    "importances.plot.bar()"
   ]
  },
  {
   "cell_type": "markdown",
   "metadata": {},
   "source": [
    "> Credit History has the maximum importance and Employment has the least!"
   ]
  },
  {
   "cell_type": "markdown",
   "metadata": {},
   "source": [
    "# Conclusion\n",
    "\n",
    "The Loan status has better relation with features such as Credit History, Applicant's Income, Loan Amount needed by them, Family status(Depenedents) and Property Area which are generally considered by the loan providing organisations. These factors are hence used to take correct decisions to provide loan status or not. This data analysis hence gives a realisation of features and the relation between them from the older decision examples hence giving a learning to predict the class of the unseen data. "
   ]
  },
  {
   "cell_type": "markdown",
   "metadata": {},
   "source": [
    "# Submission\n",
    "## Finally we predict over unseen dataset using the Logistic Regression and Random Forest model (**Ensemble Learning**)"
   ]
  },
  {
   "cell_type": "code",
   "execution_count": null,
   "metadata": {
    "execution": {
     "iopub.execute_input": "2022-03-06T11:21:32.021186Z",
     "iopub.status.busy": "2022-03-06T11:21:32.020939Z",
     "iopub.status.idle": "2022-03-06T11:21:32.027049Z",
     "shell.execute_reply": "2022-03-06T11:21:32.026209Z",
     "shell.execute_reply.started": "2022-03-06T11:21:32.021155Z"
    }
   },
   "outputs": [],
   "source": [
    "df_test = test.drop(['Loan_ID'], axis = 1)"
   ]
  },
  {
   "cell_type": "code",
   "execution_count": null,
   "metadata": {
    "execution": {
     "iopub.execute_input": "2022-03-06T11:21:32.028975Z",
     "iopub.status.busy": "2022-03-06T11:21:32.028583Z",
     "iopub.status.idle": "2022-03-06T11:21:32.049228Z",
     "shell.execute_reply": "2022-03-06T11:21:32.048237Z",
     "shell.execute_reply.started": "2022-03-06T11:21:32.028929Z"
    }
   },
   "outputs": [],
   "source": [
    "df_test.head()"
   ]
  },
  {
   "cell_type": "code",
   "execution_count": null,
   "metadata": {
    "execution": {
     "iopub.execute_input": "2022-03-06T11:21:32.051213Z",
     "iopub.status.busy": "2022-03-06T11:21:32.050893Z",
     "iopub.status.idle": "2022-03-06T11:21:32.06333Z",
     "shell.execute_reply": "2022-03-06T11:21:32.062251Z",
     "shell.execute_reply.started": "2022-03-06T11:21:32.051169Z"
    },
    "scrolled": true
   },
   "outputs": [],
   "source": [
    "p_log = logmodel.predict(df_test)"
   ]
  },
  {
   "cell_type": "code",
   "execution_count": null,
   "metadata": {
    "execution": {
     "iopub.execute_input": "2022-03-06T11:21:32.066442Z",
     "iopub.status.busy": "2022-03-06T11:21:32.066081Z",
     "iopub.status.idle": "2022-03-06T11:21:32.097116Z",
     "shell.execute_reply": "2022-03-06T11:21:32.096082Z",
     "shell.execute_reply.started": "2022-03-06T11:21:32.066396Z"
    }
   },
   "outputs": [],
   "source": [
    "p_rf = random_forest.predict(df_test)"
   ]
  },
  {
   "cell_type": "code",
   "execution_count": null,
   "metadata": {
    "execution": {
     "iopub.execute_input": "2022-03-06T11:21:32.099116Z",
     "iopub.status.busy": "2022-03-06T11:21:32.098495Z",
     "iopub.status.idle": "2022-03-06T11:21:32.106921Z",
     "shell.execute_reply": "2022-03-06T11:21:32.106037Z",
     "shell.execute_reply.started": "2022-03-06T11:21:32.099062Z"
    }
   },
   "outputs": [],
   "source": [
    "predict_combine = np.zeros((df_test.shape[0]))\n",
    "\n",
    "for i in range(0, test.shape[0]):\n",
    "    temp = p_log[i] + p_rf[i]\n",
    "    if temp>=2:\n",
    "        predict_combine[i] = 1\n",
    "predict_combine = predict_combine.astype('int')"
   ]
  },
  {
   "cell_type": "code",
   "execution_count": null,
   "metadata": {
    "execution": {
     "iopub.execute_input": "2022-03-06T11:21:32.109315Z",
     "iopub.status.busy": "2022-03-06T11:21:32.108673Z",
     "iopub.status.idle": "2022-03-06T11:21:32.124856Z",
     "shell.execute_reply": "2022-03-06T11:21:32.123708Z",
     "shell.execute_reply.started": "2022-03-06T11:21:32.109255Z"
    }
   },
   "outputs": [],
   "source": [
    "submission = pd.DataFrame({\n",
    "        \"Loan_ID\": test[\"Loan_ID\"],\n",
    "        \"Loan_Status\": predict_combine\n",
    "    })\n",
    "\n",
    "submission.to_csv(\"results.csv\", encoding='utf-8', index=False)\n"
   ]
  },
  {
   "cell_type": "markdown",
   "metadata": {},
   "source": [
    "# Thanks for spending some of your valuable time reading my notebook. If you find any value in here do give an upvote 🎇"
   ]
  },
  {
   "cell_type": "markdown",
   "metadata": {},
   "source": [
    "<p align=\"center\">\n",
    "  <img width=\"460\" height=\"300\" src=\"https://media.giphy.com/media/eunrMjB8lBUKeL1fqD/giphy-downsized.gif\">\n",
    "</p>"
   ]
  },
  {
   "cell_type": "markdown",
   "metadata": {},
   "source": [
    "## Author: [Kens](https://www.kaggle.com/kens3i)"
   ]
  }
 ],
 "metadata": {
  "kernelspec": {
   "display_name": "Python 3 (ipykernel)",
   "language": "python",
   "name": "python3"
  },
  "language_info": {
   "codemirror_mode": {
    "name": "ipython",
    "version": 3
   },
   "file_extension": ".py",
   "mimetype": "text/x-python",
   "name": "python",
   "nbconvert_exporter": "python",
   "pygments_lexer": "ipython3",
   "version": "3.9.7"
  }
 },
 "nbformat": 4,
 "nbformat_minor": 4
}
